{
 "cells": [
  {
   "cell_type": "code",
   "execution_count": 197,
   "metadata": {},
   "outputs": [],
   "source": [
    "import numpy\n",
    "import matplotlib.pyplot as plt\n",
    "from sklearn.svm import learnSVC\n",
    "from sklearn.datasets import make_classification"
   ]
  },
  {
   "cell_type": "code",
   "execution_count": 225,
   "metadata": {},
   "outputs": [],
   "source": [
    "def matrix_factorization(A,X, Y, K, steps=5000, alpha=0.0002, beta=0.002):\n",
    "    Y = Y.T\n",
    "    stept=[]\n",
    "    eijt=[]\n",
    "    for step in range(steps):\n",
    "        for i in range(len(A)):\n",
    "            for j in range(len(A[i])):\n",
    "                if A[i][j] > 0:\n",
    "                    eij = A[i][j] - numpy.dot(X[i,:],Y[:,j])\n",
    "                    for k in range(K):\n",
    "                        X[i][k] = X[i][k] + alpha * (2 * eij * Y[k][j] - beta * X[i][k])\n",
    "                        Y[k][j] = Y[k][j] + alpha * (2 * eij * X[i][k] - beta * Y[k][j])\n",
    "        eA = numpy.dot(X,Y)\n",
    "        e = 0\n",
    "        for i in range(len(A)):\n",
    "            for j in range(len(A[i])):\n",
    "                if A[i][j] > 0:\n",
    "                    e = e + pow(A[i][j] - numpy.dot(X[i,:],Y[:,j]), 2)\n",
    "                    for k in range(K):\n",
    "                        e = e + (beta/2) * ( pow(X[i][k],2) + pow(Y[k][j],2) )\n",
    "        if e < 0.001:\n",
    "            break\n",
    "        stept.append(step)\n",
    "        eijt.append(eij)\n",
    "    return X, Y.T,stept,eijt\n"
   ]
  },
  {
   "cell_type": "code",
   "execution_count": 226,
   "metadata": {},
   "outputs": [],
   "source": [
    "if __name__ == \"__main__\":\n",
    "    A = [\n",
    "         [5,3,0,1],\n",
    "         [4,0,0,1],\n",
    "         [1,1,0,5],\n",
    "         [1,0,0,4],\n",
    "         [0,1,5,4],\n",
    "        ]\n",
    "\n",
    "    A = numpy.array(A)\n",
    "    N = len(A)\n",
    "    M = len(A[0])\n",
    "    K = 2\n",
    "    step_ar=[]\n",
    "    eij_ar=[]\n",
    "\n",
    "    X = numpy.random.rand(N,K)\n",
    "    Y = numpy.random.rand(M,K)\n",
    "    nX, nY,step_ar,eij_ar = matrix_factorization(A, X, Y, K)\n",
    "    nA=numpy.dot(nX,nY.T)\n",
    "    "
   ]
  },
  {
   "cell_type": "code",
   "execution_count": 227,
   "metadata": {},
   "outputs": [
    {
     "data": {
      "image/png": "[encoded data removed]",
      "text/plain": [
       "<Figure size 432x288 with 1 Axes>"
      ]
     },
     "metadata": {},
     "output_type": "display_data"
    }
   ],
   "source": [
    "plt.plot(step_ar,eij_ar)\n",
    "plt.show()"
   ]
  },
  {
   "cell_type": "code",
   "execution_count": 151,
   "metadata": {},
   "outputs": [
    {
     "name": "stdout",
     "output_type": "stream",
     "text": [
      "[[1.07584702e-03 2.21924634e+00]\n",
      " [1.15386773e-01 1.30627761e+00]\n",
      " [2.25177161e+00 1.49403586e+00]\n",
      " [2.26758177e+00 2.43847093e-01]]\n"
     ]
    }
   ],
   "source": [
    "print(nY)"
   ]
  },
  {
   "cell_type": "code",
   "execution_count": 193,
   "metadata": {},
   "outputs": [
    {
     "name": "stdout",
     "output_type": "stream",
     "text": [
      "[[4.99770406 2.99829223 4.90275379 1.00023598]\n",
      " [3.99818579 2.41526037 4.12765078 1.00010295]\n",
      " [1.00043643 0.99883263 5.91069837 4.99713737]\n",
      " [0.99984305 0.9154851  4.88390004 3.99835779]\n",
      " [1.14678668 1.00125492 4.99854031 3.99904778]]\n"
     ]
    }
   ],
   "source": [
    "print(nA)"
   ]
  },
  {
   "cell_type": "code",
   "execution_count": null,
   "metadata": {},
   "outputs": [],
   "source": []
  }
 ],
 "metadata": {
  "kernelspec": {
   "display_name": "Python 3",
   "language": "python",
   "name": "python3"
  },
  "language_info": {
   "codemirror_mode": {
    "name": "ipython",
    "version": 3
   },
   "file_extension": ".py",
   "mimetype": "text/x-python",
   "name": "python",
   "nbconvert_exporter": "python",
   "pygments_lexer": "ipython3",
   "version": "3.6.5"
  }
 },
 "nbformat": 4,
 "nbformat_minor": 2
}
